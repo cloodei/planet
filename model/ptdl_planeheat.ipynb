{
 "cells": [
  {
   "cell_type": "code",
   "execution_count": null,
   "id": "37f82f33",
   "metadata": {},
   "outputs": [],
   "source": [
    "import pandas as pd\n",
    "import matplotlib.pyplot as plt\n",
    "import seaborn as sns\n",
    "\n",
    "# Đọc dữ liệu\n",
    "df_r = pd.read_csv(\"GlobalTemperatures.csv\", parse_dates=[\"dt\"])\n",
    "df = df_r[df_r[\"dt\"] >= \"1850-01-01\"].copy(deep=False)\n",
    "\n",
    "# Thêm cột năm (numeric) từ datetime\n",
    "df[\"year\"] = df[\"dt\"].dt.year\n",
    "df[\"month\"] = df[\"dt\"].dt.month\n",
    "# Hoặc có thể dùng timestamp: df[\"timestamp\"] = df[\"dt\"].astype(\"int64\") // 10**9\n",
    "df.head()\n",
    "# Chọn cột số\n",
    "numeric_cols = df.select_dtypes(include=[\"float64\", \"int32\"])\n",
    "\n",
    "# Tính ma trận tương quan\n",
    "corr_matrix = numeric_cols.corr()\n",
    "\n",
    "# In ra ma trận\n",
    "print(\"Ma trận tương quan giữa các thuộc tính (có year):\")\n",
    "print(corr_matrix)\n",
    "\n",
    "# Vẽ heatmap\n",
    "plt.figure(figsize=(10, 8))\n",
    "sns.heatmap(\n",
    "    corr_matrix,\n",
    "    annot=True,          # hiển thị số trên ô\n",
    "    cmap=\"coolwarm\",     # màu sắc xanh - đỏ\n",
    "    fmt=\".2f\",           # format 2 chữ số thập phân\n",
    "    cbar=True\n",
    ")\n",
    "plt.title(\"Heatmap - Ma trận tương quan \", fontsize=14)\n",
    "plt.show()"
   ]
  },
  {
   "cell_type": "markdown",
   "id": "ad4040c7",
   "metadata": {},
   "source": [
    "# Xử lý dữ liệu ở phía bên dưới, bên trên là mô hình cũ"
   ]
  },
  {
   "cell_type": "code",
   "execution_count": null,
   "id": "efc33542",
   "metadata": {},
   "outputs": [],
   "source": [
    "import pandas as pd\n",
    "df = pd.read_csv(\"GlobalTemperatures.csv\", parse_dates=[\"dt\"])\n",
    "# df"
   ]
  },
  {
   "cell_type": "markdown",
   "id": "f3976a3e",
   "metadata": {},
   "source": [
    "### Thêm cột \"year\" và xóa những bản ghi trước năm 1850"
   ]
  },
  {
   "cell_type": "code",
   "execution_count": null,
   "id": "d0eea2db",
   "metadata": {},
   "outputs": [],
   "source": [
    "df[\"year\"] = df[\"dt\"].dt.year\n",
    "df = df[df[\"year\"] >=1850]\n",
    "# df.head()"
   ]
  },
  {
   "cell_type": "markdown",
   "id": "513f0d3b",
   "metadata": {},
   "source": [
    "### Xóa cột \"dt\""
   ]
  },
  {
   "cell_type": "code",
   "execution_count": null,
   "id": "563b0f5c",
   "metadata": {},
   "outputs": [],
   "source": [
    "df = df.drop(columns=\"dt\")\n",
    "\n",
    "# df.head()"
   ]
  },
  {
   "cell_type": "markdown",
   "id": "42df5147",
   "metadata": {},
   "source": [
    "### Nhóm các thuộc tính còn lại theo \"year\""
   ]
  },
  {
   "cell_type": "code",
   "execution_count": null,
   "id": "ecea7106",
   "metadata": {},
   "outputs": [],
   "source": [
    "group = df.groupby(\"year\")[df.drop(columns=\"year\").columns].mean()\n",
    "# group"
   ]
  },
  {
   "cell_type": "markdown",
   "id": "8ca76ff2",
   "metadata": {},
   "source": [
    "### Chuẩn hóa dữ liệu bằng sklearn"
   ]
  },
  {
   "cell_type": "code",
   "execution_count": null,
   "id": "c5defff9",
   "metadata": {},
   "outputs": [],
   "source": [
    "from sklearn.preprocessing import StandardScaler\n",
    "from sklearn.compose import ColumnTransformer\n",
    "from sklearn.model_selection import train_test_split\n",
    "\n",
    "feature_cols = ['LandAverageTemperature', 'LandAverageTemperatureUncertainty',\n",
    "       'LandMaxTemperature', 'LandMaxTemperatureUncertainty',\n",
    "       'LandMinTemperature', 'LandMinTemperatureUncertainty',\n",
    "       'LandAndOceanAverageTemperature',\n",
    "       'LandAndOceanAverageTemperatureUncertainty']\n",
    "\n",
    "X = group[feature_cols]\n",
    "\n",
    "temperature_features = ['LandAverageTemperature', 'LandAverageTemperatureUncertainty',\n",
    "       'LandMaxTemperature', 'LandMaxTemperatureUncertainty',\n",
    "       'LandMinTemperature', 'LandMinTemperatureUncertainty',\n",
    "       'LandAndOceanAverageTemperature',\n",
    "       'LandAndOceanAverageTemperatureUncertainty']\n",
    "\n",
    "# Tạo ColumnTransformer để xử lý từng phần\n",
    "preprocessor = ColumnTransformer(transformers=[\n",
    "    ('temp_scaler', StandardScaler(), temperature_features)\n",
    "])\n",
    "\n",
    "# X"
   ]
  },
  {
   "cell_type": "markdown",
   "id": "57bb8207",
   "metadata": {},
   "source": [
    "### Biến đổi dữ liệu thành dataFrame có 6 thuộc tính: Nam_1 ... Nam_6\n",
    "#### Mỗi cell là một vecto có 8 phần tử \n",
    "#### Nam_6 là biến mục tiêu"
   ]
  },
  {
   "cell_type": "code",
   "execution_count": null,
   "id": "8968982d",
   "metadata": {},
   "outputs": [],
   "source": [
    "import numpy as np\n",
    "preProcess = {\n",
    "    \"Nam_1\":[],\n",
    "    \"Nam_2\" : [],\n",
    "    \"Nam_3\":[],\n",
    "    \"Nam_4\" : [],\n",
    "    \"Nam_5\": [],\n",
    "    \"Nam_6\" : []\n",
    "}\n",
    "\n",
    "\n",
    "# for Nam in preProcess.keys():\n",
    "vectos =[]    \n",
    "for index, row in group.iterrows():\n",
    "    vecto = np.array([])\n",
    "    for item in row:\n",
    "        vecto = np.append(vecto, item)\n",
    "    vectos.append(vecto)\n",
    "    \n",
    "i = 0         \n",
    "for index in range(len(vectos)):\n",
    "    for p in range(index, index+6):\n",
    "        Nam = f\"Nam_{i%6+1}\"\n",
    "        preProcess[Nam].append((list)(vectos[p]))\n",
    "        i+=1\n",
    "    if index == len(vectos)-7:\n",
    "        break\n",
    "\n",
    "# print(type(preProcess[\"Nam_1\"][1]))\n",
    "# print(preProcess[\"Nam_6\"][0])\n"
   ]
  },
  {
   "cell_type": "code",
   "execution_count": null,
   "id": "211ec2dc",
   "metadata": {},
   "outputs": [],
   "source": [
    "new_df = pd.DataFrame(preProcess)\n",
    "# new_df"
   ]
  },
  {
   "cell_type": "markdown",
   "id": "7fa5255f",
   "metadata": {},
   "source": [
    "### X là feature, Y là biến mục tiêu"
   ]
  },
  {
   "cell_type": "code",
   "execution_count": null,
   "id": "395f470b",
   "metadata": {},
   "outputs": [],
   "source": [
    "X = new_df[['Nam_1', 'Nam_2', 'Nam_3', 'Nam_4', 'Nam_5']]\n",
    "y = new_df['Nam_6']\n",
    "\n",
    "# X\n",
    "# y"
   ]
  },
  {
   "cell_type": "markdown",
   "id": "640184c8",
   "metadata": {},
   "source": [
    "### Chia tập train, test"
   ]
  },
  {
   "cell_type": "code",
   "execution_count": null,
   "id": "06406ad5",
   "metadata": {},
   "outputs": [],
   "source": [
    "X_train, X_test, y_train, y_test = train_test_split(X, y, test_size=0.2, random_state=42)\n",
    "\n",
    "# X_train\n",
    "# y_train"
   ]
  },
  {
   "cell_type": "markdown",
   "id": "451fad14",
   "metadata": {},
   "source": [
    "### Sử dụng học máy truyền thống\n",
    "#### Đổi X,Y sang array numpy thì mới huấn luyện được\n",
    "#### Vì mỗi cell ở X là 1 vecto nên khó huân luyện nên dùng sum(row,[]) để nối toàn bộ vecto trong 1 hàng của X từ đó ta có ma trận 2D X và Y"
   ]
  },
  {
   "cell_type": "code",
   "execution_count": null,
   "id": "4f9ac97f",
   "metadata": {},
   "outputs": [],
   "source": [
    "from sklearn.linear_model import LinearRegression\n",
    "from sklearn.metrics import mean_squared_error, r2_score\n",
    "import numpy as np\n",
    "\n",
    "# Chuyển đổi X_train, X_test, y_train, y_test từ list sang numpy array cho từng sample\n",
    "def convert_X(X_df: pd.DataFrame):\n",
    "    # Mỗi cell là 1 list, ghép lại thành 2D array\n",
    "    return np.array([np.array(sum(row, [])) for row in X_df.values])\n",
    "\n",
    "def convert_y(y_series: pd.Series):\n",
    "    return np.array([np.array(y) for y in y_series.values])\n",
    "\n",
    "X_train_np = convert_X(X_train)\n",
    "X_test_np = convert_X(X_test)\n",
    "y_train_np = convert_y(y_train)\n",
    "y_test_np = convert_y(y_test)\n",
    "\n",
    "# Huấn luyện mô hình Linear Regression\n",
    "lr = LinearRegression()\n",
    "lr.fit(X_train_np, y_train_np)\n",
    "\n",
    "# Dự đoán trên tập test\n",
    "y_pred = lr.predict(X_test_np)\n",
    "\n",
    "# Đánh giá mô hình (ví dụ: MSE trung bình trên từng chiều)\n",
    "mse = mean_squared_error(y_test_np, y_pred)\n",
    "r2 = r2_score(y_test_np, y_pred)\n",
    "\n",
    "print(\"Mean Squared Error:\", mse)\n",
    "print(\"R2 Score:\", r2)"
   ]
  },
  {
   "cell_type": "markdown",
   "id": "250c7b07",
   "metadata": {},
   "source": [
    "#### Biểu đồ thể hiện đầu ra thực tế và đầu ra dự đoán, đường kẻ đỏ là đường thẳng gần giống với đầu ra thực tế vì có xu hướng tăng (có thể là đường cong nhưng để trực quan thì để thành đường thẳng tính min - max)"
   ]
  },
  {
   "cell_type": "code",
   "execution_count": null,
   "id": "269fdb5c",
   "metadata": {},
   "outputs": [],
   "source": [
    "import matplotlib.pyplot as plt\n",
    "\n",
    "plt.figure(figsize=(12, 8))\n",
    "for i in range(8):  # vì có 8 output\n",
    "    plt.subplot(2, 4, i+1)\n",
    "    plt.scatter(y_test_np[:, i], y_pred[:, i], alpha=0.6)\n",
    "    plt.plot([y_test_np[:, i].min(), y_test_np[:, i].max()],\n",
    "             [y_test_np[:, i].min(), y_test_np[:, i].max()],\n",
    "             'r--')\n",
    "    plt.xlabel(\"Thực tế\")\n",
    "    plt.ylabel(\"Dự đoán\")\n",
    "    plt.title(f\"Output {i+1}\")\n",
    "plt.tight_layout()\n",
    "plt.show()"
   ]
  },
  {
   "cell_type": "code",
   "execution_count": null,
   "id": "73add1ce",
   "metadata": {},
   "outputs": [],
   "source": [
    "X_train_np[0]"
   ]
  },
  {
   "cell_type": "code",
   "execution_count": null,
   "id": "5b61ace7",
   "metadata": {},
   "outputs": [],
   "source": [
    "y_train_np[0]"
   ]
  },
  {
   "cell_type": "markdown",
   "id": "280b94d3",
   "metadata": {},
   "source": [
    "### Sử dụng học sâu để làm"
   ]
  },
  {
   "cell_type": "code",
   "execution_count": null,
   "id": "901c3235",
   "metadata": {},
   "outputs": [],
   "source": [
    "import shutil\n",
    "import numpy as np\n",
    "import tensorflow.keras.backend as K\n",
    "from tensorflow.keras.models import Sequential\n",
    "from tensorflow.keras.layers import Dense, Flatten, InputLayer\n",
    "\n",
    "def r2_score(y_true, y_pred):\n",
    "    ss_res = K.sum(K.square(y_true - y_pred))  # Residual sum of squares\n",
    "    ss_tot = K.sum(K.square(y_true - K.mean(y_true)))  # Total sum of squares\n",
    "    return 1 - ss_res / (ss_tot + K.epsilon())\n",
    "\n",
    "# Chuyển đổi X, y thành numpy array 3D/2D\n",
    "def convert_X_3d(X_df: pd.DataFrame):\n",
    "    # Mỗi hàng là list 5 vector (mỗi vector 8 chiều)\n",
    "    return np.array([np.stack(row) for row in X_df.values])\n",
    "\n",
    "def convert_y_2d(y_series: pd.Series):\n",
    "    return np.array([np.array(y) for y in y_series.values])\n",
    "\n",
    "X_train_3d = convert_X_3d(X_train)\n",
    "X_test_3d = convert_X_3d(X_test)\n",
    "y_train_2d = convert_y_2d(y_train)\n",
    "y_test_2d = convert_y_2d(y_test)\n",
    "\n",
    "# Xây dựng mô hình\n",
    "model = Sequential([\n",
    "    InputLayer(shape=(5, 8)),\n",
    "    Flatten(),\n",
    "    Dense(64, activation='relu'),\n",
    "    Dense(8)  # 8 output\n",
    "])\n",
    "\n",
    "model.compile(optimizer='adam', loss='mse', metrics=['mae', r2_score])\n",
    "model.fit(X_train_3d, y_train_2d, epochs=100, batch_size=8, verbose=0)\n",
    "\n",
    "y_pred_dl = model.predict(X_test_3d)\n",
    "# Đánh giá\n",
    "loss, mae, r2 = model.evaluate(X_test_3d, y_test_2d, verbose=0)\n",
    "print(\"Test Loss:\", loss)\n",
    "print(\"Test MAE:\", mae)\n",
    "print(\"Test R²:\", r2)\n",
    "# print(\"X:\", X_train_3d)\n",
    "\n",
    "model.save(\"planetheat_model.keras\")\n",
    "shutil.copy(\"planetheat_model.keras\", \"../backend/model.keras\")\n",
    "\n",
    "y_pred_dl"
   ]
  },
  {
   "cell_type": "code",
   "execution_count": null,
   "id": "abb85985",
   "metadata": {},
   "outputs": [],
   "source": [
    "# X_test_3d[-1]\n",
    "X_test[-5:]"
   ]
  },
  {
   "cell_type": "markdown",
   "id": "76401f76",
   "metadata": {},
   "source": [
    "#### Biểu đồ thể hiện đầu ra thực tế và đầu ra dự đoán, đường kẻ đỏ là đường thẳng gần giống với đầu ra thực tế vì có xu hướng tăng (có thể là đường cong nhưng để trực quan thì để thành đường thẳng tính min - max)"
   ]
  },
  {
   "cell_type": "code",
   "execution_count": null,
   "id": "cd79db68",
   "metadata": {},
   "outputs": [],
   "source": [
    "import matplotlib.pyplot as plt\n",
    "\n",
    "plt.figure(figsize=(12, 8))\n",
    "for i in range(8):  # vì có 8 output\n",
    "    plt.subplot(2, 4, i+1)\n",
    "    plt.scatter(y_test_2d[:, i], y_pred_dl[:, i], alpha=0.6)\n",
    "    plt.plot([y_test_2d[:, i].min(), y_test_2d[:, i].max()],\n",
    "             [y_test_2d[:, i].min(), y_test_2d[:, i].max()],\n",
    "             'r--')\n",
    "    plt.xlabel(\"Thực tế\")\n",
    "    plt.ylabel(\"Dự đoán\")\n",
    "    plt.title(f\"Output {i+1}\")\n",
    "plt.tight_layout()\n",
    "plt.show()"
   ]
  }
 ],
 "metadata": {
  "kernelspec": {
   "display_name": "model",
   "language": "python",
   "name": "python3"
  },
  "language_info": {
   "codemirror_mode": {
    "name": "ipython",
    "version": 3
   },
   "file_extension": ".py",
   "mimetype": "text/x-python",
   "name": "python",
   "nbconvert_exporter": "python",
   "pygments_lexer": "ipython3",
   "version": "3.12.6"
  }
 },
 "nbformat": 4,
 "nbformat_minor": 5
}
